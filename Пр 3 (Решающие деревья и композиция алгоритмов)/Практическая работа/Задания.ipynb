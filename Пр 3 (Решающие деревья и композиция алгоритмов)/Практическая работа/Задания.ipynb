{
  "cells": [
    {
      "cell_type": "markdown",
      "metadata": {
        "id": "itZYTa57fbfq"
      },
      "source": [
        "Вам предстоит научитсья моделировать отток клиентов телеком компании. Эта задача очень важна на практике и алгоритмы для ее решения используются в реальных телеком компаниях, ведь если мы знаем, что клиент собирается уйти от нас, то мы попытаться удержать его, предложив какие-то бонусы."
      ]
    },
    {
      "cell_type": "markdown",
      "metadata": {
        "id": "K6uVwJANdDF0"
      },
      "source": [
        "# Импорт библиотек"
      ]
    },
    {
      "cell_type": "code",
      "execution_count": 2,
      "metadata": {
        "_cell_guid": "b1076dfc-b9ad-4769-8c92-a6c4dae69d19",
        "_uuid": "8f2839f25d086af736a60e9eeb907d3b93b6e0e5",
        "colab": {
          "base_uri": "https://localhost:8080/"
        },
        "execution": {
          "iopub.execute_input": "2022-10-15T14:24:11.265426Z",
          "iopub.status.busy": "2022-10-15T14:24:11.264986Z",
          "iopub.status.idle": "2022-10-15T14:24:12.646494Z",
          "shell.execute_reply": "2022-10-15T14:24:12.645426Z",
          "shell.execute_reply.started": "2022-10-15T14:24:11.265338Z"
        },
        "id": "kG9QPY7HdDF3",
        "outputId": "3ab31431-2dcc-403a-e0b9-df35aa57668d",
        "trusted": true
      },
      "outputs": [
        {
          "name": "stdout",
          "output_type": "stream",
          "text": [
            "Looking in indexes: https://pypi.org/simple, https://us-python.pkg.dev/colab-wheels/public/simple/\n",
            "Collecting catboost\n",
            "  Downloading catboost-1.1.1-cp37-none-manylinux1_x86_64.whl (76.6 MB)\n",
            "\u001b[K     |████████████████████████████████| 76.6 MB 44.1 MB/s \n",
            "\u001b[?25hRequirement already satisfied: numpy>=1.16.0 in /usr/local/lib/python3.7/dist-packages (from catboost) (1.21.6)\n",
            "Requirement already satisfied: plotly in /usr/local/lib/python3.7/dist-packages (from catboost) (5.5.0)\n",
            "Requirement already satisfied: graphviz in /usr/local/lib/python3.7/dist-packages (from catboost) (0.10.1)\n",
            "Requirement already satisfied: pandas>=0.24.0 in /usr/local/lib/python3.7/dist-packages (from catboost) (1.3.5)\n",
            "Requirement already satisfied: six in /usr/local/lib/python3.7/dist-packages (from catboost) (1.15.0)\n",
            "Requirement already satisfied: matplotlib in /usr/local/lib/python3.7/dist-packages (from catboost) (3.2.2)\n",
            "Requirement already satisfied: scipy in /usr/local/lib/python3.7/dist-packages (from catboost) (1.7.3)\n",
            "Requirement already satisfied: pytz>=2017.3 in /usr/local/lib/python3.7/dist-packages (from pandas>=0.24.0->catboost) (2022.6)\n",
            "Requirement already satisfied: python-dateutil>=2.7.3 in /usr/local/lib/python3.7/dist-packages (from pandas>=0.24.0->catboost) (2.8.2)\n",
            "Requirement already satisfied: cycler>=0.10 in /usr/local/lib/python3.7/dist-packages (from matplotlib->catboost) (0.11.0)\n",
            "Requirement already satisfied: kiwisolver>=1.0.1 in /usr/local/lib/python3.7/dist-packages (from matplotlib->catboost) (1.4.4)\n",
            "Requirement already satisfied: pyparsing!=2.0.4,!=2.1.2,!=2.1.6,>=2.0.1 in /usr/local/lib/python3.7/dist-packages (from matplotlib->catboost) (3.0.9)\n",
            "Requirement already satisfied: typing-extensions in /usr/local/lib/python3.7/dist-packages (from kiwisolver>=1.0.1->matplotlib->catboost) (4.1.1)\n",
            "Requirement already satisfied: tenacity>=6.2.0 in /usr/local/lib/python3.7/dist-packages (from plotly->catboost) (8.1.0)\n",
            "Installing collected packages: catboost\n",
            "Successfully installed catboost-1.1.1\n"
          ]
        }
      ],
      "source": [
        "!pip install catboost\n",
        "import sys\n",
        "import pandas as pd\n",
        "import numpy as np\n",
        "import matplotlib.pyplot as plt\n",
        "import seaborn as sns\n",
        "import catboost\n",
        "\n",
        "from sklearn.model_selection import train_test_split\n",
        "from sklearn.preprocessing import StandardScaler\n",
        "from sklearn.preprocessing import MinMaxScaler\n",
        "from sklearn.linear_model import SGDClassifier\n",
        "from sklearn.neighbors import KNeighborsClassifier\n",
        "from sklearn.ensemble import RandomForestClassifier\n",
        "from sklearn.model_selection import GridSearchCV\n",
        "from sklearn.pipeline import Pipeline\n",
        "from sklearn.metrics import roc_auc_score"
      ]
    },
    {
      "cell_type": "markdown",
      "metadata": {
        "id": "LBhx0mnZdDF5"
      },
      "source": [
        "# Работа с данными"
      ]
    },
    {
      "cell_type": "markdown",
      "metadata": {
        "id": "B9Nx0efPdDF5"
      },
      "source": [
        "## Экспорт данных и их обработка"
      ]
    },
    {
      "cell_type": "markdown",
      "metadata": {
        "id": "7evRA2QeeKKR"
      },
      "source": [
        "Здесь не забудьте загрузить train.csv и test.csv из папки Данные."
      ]
    },
    {
      "cell_type": "code",
      "execution_count": 4,
      "metadata": {
        "colab": {
          "base_uri": "https://localhost:8080/",
          "height": 340
        },
        "execution": {
          "iopub.execute_input": "2022-10-15T14:24:12.656428Z",
          "iopub.status.busy": "2022-10-15T14:24:12.656018Z",
          "iopub.status.idle": "2022-10-15T14:24:12.769628Z",
          "shell.execute_reply": "2022-10-15T14:24:12.768419Z",
          "shell.execute_reply.started": "2022-10-15T14:24:12.656381Z"
        },
        "id": "IN8y1YuldDF5",
        "outputId": "a2d53672-9ada-4c6e-8021-6273d17e35f1",
        "trusted": true
      },
      "outputs": [
        {
          "data": {
            "text/html": [
              "\n",
              "  <div id=\"df-ef79bd69-657c-4a60-bf0e-747da930a363\">\n",
              "    <div class=\"colab-df-container\">\n",
              "      <div>\n",
              "<style scoped>\n",
              "    .dataframe tbody tr th:only-of-type {\n",
              "        vertical-align: middle;\n",
              "    }\n",
              "\n",
              "    .dataframe tbody tr th {\n",
              "        vertical-align: top;\n",
              "    }\n",
              "\n",
              "    .dataframe thead th {\n",
              "        text-align: right;\n",
              "    }\n",
              "</style>\n",
              "<table border=\"1\" class=\"dataframe\">\n",
              "  <thead>\n",
              "    <tr style=\"text-align: right;\">\n",
              "      <th></th>\n",
              "      <th>ClientPeriod</th>\n",
              "      <th>MonthlySpending</th>\n",
              "      <th>TotalSpent</th>\n",
              "      <th>Sex</th>\n",
              "      <th>IsSeniorCitizen</th>\n",
              "      <th>HasPartner</th>\n",
              "      <th>HasChild</th>\n",
              "      <th>HasPhoneService</th>\n",
              "      <th>HasMultiplePhoneNumbers</th>\n",
              "      <th>HasInternetService</th>\n",
              "      <th>HasOnlineSecurityService</th>\n",
              "      <th>HasOnlineBackup</th>\n",
              "      <th>HasDeviceProtection</th>\n",
              "      <th>HasTechSupportAccess</th>\n",
              "      <th>HasOnlineTV</th>\n",
              "      <th>HasMovieSubscription</th>\n",
              "      <th>HasContractPhone</th>\n",
              "      <th>IsBillingPaperless</th>\n",
              "      <th>PaymentMethod</th>\n",
              "      <th>Churn</th>\n",
              "    </tr>\n",
              "  </thead>\n",
              "  <tbody>\n",
              "    <tr>\n",
              "      <th>0</th>\n",
              "      <td>55</td>\n",
              "      <td>19.50</td>\n",
              "      <td>1026.35</td>\n",
              "      <td>Male</td>\n",
              "      <td>0</td>\n",
              "      <td>Yes</td>\n",
              "      <td>Yes</td>\n",
              "      <td>Yes</td>\n",
              "      <td>No</td>\n",
              "      <td>No</td>\n",
              "      <td>No internet service</td>\n",
              "      <td>No internet service</td>\n",
              "      <td>No internet service</td>\n",
              "      <td>No internet service</td>\n",
              "      <td>No internet service</td>\n",
              "      <td>No internet service</td>\n",
              "      <td>One year</td>\n",
              "      <td>No</td>\n",
              "      <td>Mailed check</td>\n",
              "      <td>0</td>\n",
              "    </tr>\n",
              "    <tr>\n",
              "      <th>1</th>\n",
              "      <td>72</td>\n",
              "      <td>25.85</td>\n",
              "      <td>1872.2</td>\n",
              "      <td>Male</td>\n",
              "      <td>0</td>\n",
              "      <td>Yes</td>\n",
              "      <td>No</td>\n",
              "      <td>Yes</td>\n",
              "      <td>Yes</td>\n",
              "      <td>No</td>\n",
              "      <td>No internet service</td>\n",
              "      <td>No internet service</td>\n",
              "      <td>No internet service</td>\n",
              "      <td>No internet service</td>\n",
              "      <td>No internet service</td>\n",
              "      <td>No internet service</td>\n",
              "      <td>Two year</td>\n",
              "      <td>No</td>\n",
              "      <td>Credit card (automatic)</td>\n",
              "      <td>0</td>\n",
              "    </tr>\n",
              "    <tr>\n",
              "      <th>2</th>\n",
              "      <td>1</td>\n",
              "      <td>75.90</td>\n",
              "      <td>75.9</td>\n",
              "      <td>Male</td>\n",
              "      <td>0</td>\n",
              "      <td>No</td>\n",
              "      <td>No</td>\n",
              "      <td>Yes</td>\n",
              "      <td>No</td>\n",
              "      <td>Fiber optic</td>\n",
              "      <td>No</td>\n",
              "      <td>No</td>\n",
              "      <td>No</td>\n",
              "      <td>Yes</td>\n",
              "      <td>No</td>\n",
              "      <td>No</td>\n",
              "      <td>Month-to-month</td>\n",
              "      <td>Yes</td>\n",
              "      <td>Electronic check</td>\n",
              "      <td>1</td>\n",
              "    </tr>\n",
              "    <tr>\n",
              "      <th>3</th>\n",
              "      <td>32</td>\n",
              "      <td>79.30</td>\n",
              "      <td>2570</td>\n",
              "      <td>Female</td>\n",
              "      <td>1</td>\n",
              "      <td>Yes</td>\n",
              "      <td>No</td>\n",
              "      <td>Yes</td>\n",
              "      <td>Yes</td>\n",
              "      <td>Fiber optic</td>\n",
              "      <td>No</td>\n",
              "      <td>No</td>\n",
              "      <td>Yes</td>\n",
              "      <td>No</td>\n",
              "      <td>No</td>\n",
              "      <td>No</td>\n",
              "      <td>Month-to-month</td>\n",
              "      <td>No</td>\n",
              "      <td>Mailed check</td>\n",
              "      <td>0</td>\n",
              "    </tr>\n",
              "    <tr>\n",
              "      <th>4</th>\n",
              "      <td>60</td>\n",
              "      <td>115.25</td>\n",
              "      <td>6758.45</td>\n",
              "      <td>Female</td>\n",
              "      <td>0</td>\n",
              "      <td>Yes</td>\n",
              "      <td>Yes</td>\n",
              "      <td>Yes</td>\n",
              "      <td>Yes</td>\n",
              "      <td>Fiber optic</td>\n",
              "      <td>Yes</td>\n",
              "      <td>Yes</td>\n",
              "      <td>Yes</td>\n",
              "      <td>Yes</td>\n",
              "      <td>Yes</td>\n",
              "      <td>Yes</td>\n",
              "      <td>Two year</td>\n",
              "      <td>No</td>\n",
              "      <td>Credit card (automatic)</td>\n",
              "      <td>0</td>\n",
              "    </tr>\n",
              "  </tbody>\n",
              "</table>\n",
              "</div>\n",
              "      <button class=\"colab-df-convert\" onclick=\"convertToInteractive('df-ef79bd69-657c-4a60-bf0e-747da930a363')\"\n",
              "              title=\"Convert this dataframe to an interactive table.\"\n",
              "              style=\"display:none;\">\n",
              "        \n",
              "  <svg xmlns=\"http://www.w3.org/2000/svg\" height=\"24px\"viewBox=\"0 0 24 24\"\n",
              "       width=\"24px\">\n",
              "    <path d=\"M0 0h24v24H0V0z\" fill=\"none\"/>\n",
              "    <path d=\"M18.56 5.44l.94 2.06.94-2.06 2.06-.94-2.06-.94-.94-2.06-.94 2.06-2.06.94zm-11 1L8.5 8.5l.94-2.06 2.06-.94-2.06-.94L8.5 2.5l-.94 2.06-2.06.94zm10 10l.94 2.06.94-2.06 2.06-.94-2.06-.94-.94-2.06-.94 2.06-2.06.94z\"/><path d=\"M17.41 7.96l-1.37-1.37c-.4-.4-.92-.59-1.43-.59-.52 0-1.04.2-1.43.59L10.3 9.45l-7.72 7.72c-.78.78-.78 2.05 0 2.83L4 21.41c.39.39.9.59 1.41.59.51 0 1.02-.2 1.41-.59l7.78-7.78 2.81-2.81c.8-.78.8-2.07 0-2.86zM5.41 20L4 18.59l7.72-7.72 1.47 1.35L5.41 20z\"/>\n",
              "  </svg>\n",
              "      </button>\n",
              "      \n",
              "  <style>\n",
              "    .colab-df-container {\n",
              "      display:flex;\n",
              "      flex-wrap:wrap;\n",
              "      gap: 12px;\n",
              "    }\n",
              "\n",
              "    .colab-df-convert {\n",
              "      background-color: #E8F0FE;\n",
              "      border: none;\n",
              "      border-radius: 50%;\n",
              "      cursor: pointer;\n",
              "      display: none;\n",
              "      fill: #1967D2;\n",
              "      height: 32px;\n",
              "      padding: 0 0 0 0;\n",
              "      width: 32px;\n",
              "    }\n",
              "\n",
              "    .colab-df-convert:hover {\n",
              "      background-color: #E2EBFA;\n",
              "      box-shadow: 0px 1px 2px rgba(60, 64, 67, 0.3), 0px 1px 3px 1px rgba(60, 64, 67, 0.15);\n",
              "      fill: #174EA6;\n",
              "    }\n",
              "\n",
              "    [theme=dark] .colab-df-convert {\n",
              "      background-color: #3B4455;\n",
              "      fill: #D2E3FC;\n",
              "    }\n",
              "\n",
              "    [theme=dark] .colab-df-convert:hover {\n",
              "      background-color: #434B5C;\n",
              "      box-shadow: 0px 1px 3px 1px rgba(0, 0, 0, 0.15);\n",
              "      filter: drop-shadow(0px 1px 2px rgba(0, 0, 0, 0.3));\n",
              "      fill: #FFFFFF;\n",
              "    }\n",
              "  </style>\n",
              "\n",
              "      <script>\n",
              "        const buttonEl =\n",
              "          document.querySelector('#df-ef79bd69-657c-4a60-bf0e-747da930a363 button.colab-df-convert');\n",
              "        buttonEl.style.display =\n",
              "          google.colab.kernel.accessAllowed ? 'block' : 'none';\n",
              "\n",
              "        async function convertToInteractive(key) {\n",
              "          const element = document.querySelector('#df-ef79bd69-657c-4a60-bf0e-747da930a363');\n",
              "          const dataTable =\n",
              "            await google.colab.kernel.invokeFunction('convertToInteractive',\n",
              "                                                     [key], {});\n",
              "          if (!dataTable) return;\n",
              "\n",
              "          const docLinkHtml = 'Like what you see? Visit the ' +\n",
              "            '<a target=\"_blank\" href=https://colab.research.google.com/notebooks/data_table.ipynb>data table notebook</a>'\n",
              "            + ' to learn more about interactive tables.';\n",
              "          element.innerHTML = '';\n",
              "          dataTable['output_type'] = 'display_data';\n",
              "          await google.colab.output.renderOutput(dataTable, element);\n",
              "          const docLink = document.createElement('div');\n",
              "          docLink.innerHTML = docLinkHtml;\n",
              "          element.appendChild(docLink);\n",
              "        }\n",
              "      </script>\n",
              "    </div>\n",
              "  </div>\n",
              "  "
            ],
            "text/plain": [
              "   ClientPeriod  MonthlySpending TotalSpent     Sex  IsSeniorCitizen  \\\n",
              "0            55            19.50    1026.35    Male                0   \n",
              "1            72            25.85     1872.2    Male                0   \n",
              "2             1            75.90       75.9    Male                0   \n",
              "3            32            79.30       2570  Female                1   \n",
              "4            60           115.25    6758.45  Female                0   \n",
              "\n",
              "  HasPartner HasChild HasPhoneService HasMultiplePhoneNumbers  \\\n",
              "0        Yes      Yes             Yes                      No   \n",
              "1        Yes       No             Yes                     Yes   \n",
              "2         No       No             Yes                      No   \n",
              "3        Yes       No             Yes                     Yes   \n",
              "4        Yes      Yes             Yes                     Yes   \n",
              "\n",
              "  HasInternetService HasOnlineSecurityService      HasOnlineBackup  \\\n",
              "0                 No      No internet service  No internet service   \n",
              "1                 No      No internet service  No internet service   \n",
              "2        Fiber optic                       No                   No   \n",
              "3        Fiber optic                       No                   No   \n",
              "4        Fiber optic                      Yes                  Yes   \n",
              "\n",
              "   HasDeviceProtection HasTechSupportAccess          HasOnlineTV  \\\n",
              "0  No internet service  No internet service  No internet service   \n",
              "1  No internet service  No internet service  No internet service   \n",
              "2                   No                  Yes                   No   \n",
              "3                  Yes                   No                   No   \n",
              "4                  Yes                  Yes                  Yes   \n",
              "\n",
              "  HasMovieSubscription HasContractPhone IsBillingPaperless  \\\n",
              "0  No internet service         One year                 No   \n",
              "1  No internet service         Two year                 No   \n",
              "2                   No   Month-to-month                Yes   \n",
              "3                   No   Month-to-month                 No   \n",
              "4                  Yes         Two year                 No   \n",
              "\n",
              "             PaymentMethod  Churn  \n",
              "0             Mailed check      0  \n",
              "1  Credit card (automatic)      0  \n",
              "2         Electronic check      1  \n",
              "3             Mailed check      0  \n",
              "4  Credit card (automatic)      0  "
            ]
          },
          "execution_count": 4,
          "metadata": {},
          "output_type": "execute_result"
        }
      ],
      "source": [
        "df = pd.read_csv(\"/content/train.csv\")\n",
        "df_test = pd.read_csv(\"/content/test.csv\")\n",
        "df.head()"
      ]
    },
    {
      "cell_type": "code",
      "execution_count": 5,
      "metadata": {
        "colab": {
          "base_uri": "https://localhost:8080/"
        },
        "execution": {
          "iopub.execute_input": "2022-10-15T14:24:12.774351Z",
          "iopub.status.busy": "2022-10-15T14:24:12.773314Z",
          "iopub.status.idle": "2022-10-15T14:24:12.784454Z",
          "shell.execute_reply": "2022-10-15T14:24:12.783142Z",
          "shell.execute_reply.started": "2022-10-15T14:24:12.774265Z"
        },
        "id": "eizthotWdDF6",
        "outputId": "7cd9c7a2-c2b1-4cf4-92f7-af27e7da7a7f",
        "trusted": true
      },
      "outputs": [
        {
          "data": {
            "text/plain": [
              "ClientPeriod                  int64\n",
              "MonthlySpending             float64\n",
              "TotalSpent                   object\n",
              "Sex                          object\n",
              "IsSeniorCitizen               int64\n",
              "HasPartner                   object\n",
              "HasChild                     object\n",
              "HasPhoneService              object\n",
              "HasMultiplePhoneNumbers      object\n",
              "HasInternetService           object\n",
              "HasOnlineSecurityService     object\n",
              "HasOnlineBackup              object\n",
              "HasDeviceProtection          object\n",
              "HasTechSupportAccess         object\n",
              "HasOnlineTV                  object\n",
              "HasMovieSubscription         object\n",
              "HasContractPhone             object\n",
              "IsBillingPaperless           object\n",
              "PaymentMethod                object\n",
              "Churn                         int64\n",
              "dtype: object"
            ]
          },
          "execution_count": 5,
          "metadata": {},
          "output_type": "execute_result"
        }
      ],
      "source": [
        "df.dtypes"
      ]
    },
    {
      "cell_type": "code",
      "execution_count": 6,
      "metadata": {
        "colab": {
          "base_uri": "https://localhost:8080/"
        },
        "execution": {
          "iopub.execute_input": "2022-10-15T14:24:12.786158Z",
          "iopub.status.busy": "2022-10-15T14:24:12.785765Z",
          "iopub.status.idle": "2022-10-15T14:24:12.802859Z",
          "shell.execute_reply": "2022-10-15T14:24:12.801658Z",
          "shell.execute_reply.started": "2022-10-15T14:24:12.786124Z"
        },
        "id": "rxJ9yptYdDF6",
        "outputId": "9703a7f8-732e-4de9-eefa-c37f6b9145d3",
        "trusted": true
      },
      "outputs": [
        {
          "data": {
            "text/plain": [
              "ClientPeriod                0\n",
              "MonthlySpending             0\n",
              "TotalSpent                  0\n",
              "Sex                         0\n",
              "IsSeniorCitizen             0\n",
              "HasPartner                  0\n",
              "HasChild                    0\n",
              "HasPhoneService             0\n",
              "HasMultiplePhoneNumbers     0\n",
              "HasInternetService          0\n",
              "HasOnlineSecurityService    0\n",
              "HasOnlineBackup             0\n",
              "HasDeviceProtection         0\n",
              "HasTechSupportAccess        0\n",
              "HasOnlineTV                 0\n",
              "HasMovieSubscription        0\n",
              "HasContractPhone            0\n",
              "IsBillingPaperless          0\n",
              "PaymentMethod               0\n",
              "Churn                       0\n",
              "dtype: int64"
            ]
          },
          "execution_count": 6,
          "metadata": {},
          "output_type": "execute_result"
        }
      ],
      "source": [
        "df.isnull().sum()"
      ]
    },
    {
      "cell_type": "code",
      "execution_count": 7,
      "metadata": {
        "colab": {
          "base_uri": "https://localhost:8080/"
        },
        "execution": {
          "iopub.execute_input": "2022-10-15T14:24:12.804754Z",
          "iopub.status.busy": "2022-10-15T14:24:12.804375Z",
          "iopub.status.idle": "2022-10-15T14:24:12.817470Z",
          "shell.execute_reply": "2022-10-15T14:24:12.816130Z",
          "shell.execute_reply.started": "2022-10-15T14:24:12.804722Z"
        },
        "id": "m4JrwWWZdDF7",
        "outputId": "3db0ca58-90f5-4a32-c937-1f9403d1319f",
        "trusted": true
      },
      "outputs": [
        {
          "data": {
            "text/plain": [
              "ClientPeriod                  int64\n",
              "MonthlySpending             float64\n",
              "TotalSpent                   object\n",
              "Sex                          object\n",
              "IsSeniorCitizen               int64\n",
              "HasPartner                   object\n",
              "HasChild                     object\n",
              "HasPhoneService              object\n",
              "HasMultiplePhoneNumbers      object\n",
              "HasInternetService           object\n",
              "HasOnlineSecurityService     object\n",
              "HasOnlineBackup              object\n",
              "HasDeviceProtection          object\n",
              "HasTechSupportAccess         object\n",
              "HasOnlineTV                  object\n",
              "HasMovieSubscription         object\n",
              "HasContractPhone             object\n",
              "IsBillingPaperless           object\n",
              "PaymentMethod                object\n",
              "Churn                         int64\n",
              "dtype: object"
            ]
          },
          "execution_count": 7,
          "metadata": {},
          "output_type": "execute_result"
        }
      ],
      "source": [
        "df.dtypes"
      ]
    },
    {
      "cell_type": "code",
      "execution_count": 8,
      "metadata": {
        "execution": {
          "iopub.execute_input": "2022-10-15T14:24:12.820807Z",
          "iopub.status.busy": "2022-10-15T14:24:12.820374Z",
          "iopub.status.idle": "2022-10-15T14:24:12.828174Z",
          "shell.execute_reply": "2022-10-15T14:24:12.826884Z",
          "shell.execute_reply.started": "2022-10-15T14:24:12.820766Z"
        },
        "id": "oadgVNlsdDF7",
        "trusted": true
      },
      "outputs": [],
      "source": [
        "columns = list(df.columns)\n",
        "\n",
        "numeric_columns = [\"ClientPeriod\", \"MonthlySpending\", \"TotalSpent\"]\n",
        "categorical_columns = []\n",
        "target_columns = [\"Churn\"]\n",
        "\n",
        "# Other columns go to categorical features\n",
        "for col in columns:\n",
        "    if (col not in numeric_columns) and (col not in target_columns):\n",
        "        categorical_columns.append(col)"
      ]
    },
    {
      "cell_type": "code",
      "execution_count": 9,
      "metadata": {
        "colab": {
          "base_uri": "https://localhost:8080/"
        },
        "execution": {
          "iopub.execute_input": "2022-10-15T14:24:12.829935Z",
          "iopub.status.busy": "2022-10-15T14:24:12.829578Z",
          "iopub.status.idle": "2022-10-15T14:24:12.840467Z",
          "shell.execute_reply": "2022-10-15T14:24:12.839437Z",
          "shell.execute_reply.started": "2022-10-15T14:24:12.829904Z"
        },
        "id": "es8kLkGedDF8",
        "outputId": "02d5cebf-ad92-4486-b2db-4d771447aa0b",
        "trusted": true
      },
      "outputs": [
        {
          "data": {
            "text/plain": [
              "['ClientPeriod',\n",
              " 'MonthlySpending',\n",
              " 'TotalSpent',\n",
              " 'Sex',\n",
              " 'IsSeniorCitizen',\n",
              " 'HasPartner',\n",
              " 'HasChild',\n",
              " 'HasPhoneService',\n",
              " 'HasMultiplePhoneNumbers',\n",
              " 'HasInternetService',\n",
              " 'HasOnlineSecurityService',\n",
              " 'HasOnlineBackup',\n",
              " 'HasDeviceProtection',\n",
              " 'HasTechSupportAccess',\n",
              " 'HasOnlineTV',\n",
              " 'HasMovieSubscription',\n",
              " 'HasContractPhone',\n",
              " 'IsBillingPaperless',\n",
              " 'PaymentMethod',\n",
              " 'Churn']"
            ]
          },
          "execution_count": 9,
          "metadata": {},
          "output_type": "execute_result"
        }
      ],
      "source": [
        "columns"
      ]
    },
    {
      "cell_type": "code",
      "execution_count": 10,
      "metadata": {
        "colab": {
          "base_uri": "https://localhost:8080/"
        },
        "execution": {
          "iopub.execute_input": "2022-10-15T14:24:12.841910Z",
          "iopub.status.busy": "2022-10-15T14:24:12.841527Z",
          "iopub.status.idle": "2022-10-15T14:24:12.852474Z",
          "shell.execute_reply": "2022-10-15T14:24:12.851393Z",
          "shell.execute_reply.started": "2022-10-15T14:24:12.841880Z"
        },
        "id": "0hSegnnJdDF8",
        "outputId": "154dd9e0-5b55-4377-bd39-5a1c0d6d8888",
        "trusted": true
      },
      "outputs": [
        {
          "data": {
            "text/plain": [
              "['ClientPeriod', 'MonthlySpending', 'TotalSpent']"
            ]
          },
          "execution_count": 10,
          "metadata": {},
          "output_type": "execute_result"
        }
      ],
      "source": [
        "numeric_columns"
      ]
    },
    {
      "cell_type": "code",
      "execution_count": 11,
      "metadata": {
        "colab": {
          "base_uri": "https://localhost:8080/"
        },
        "execution": {
          "iopub.execute_input": "2022-10-15T14:24:12.857245Z",
          "iopub.status.busy": "2022-10-15T14:24:12.856866Z",
          "iopub.status.idle": "2022-10-15T14:24:12.865198Z",
          "shell.execute_reply": "2022-10-15T14:24:12.864097Z",
          "shell.execute_reply.started": "2022-10-15T14:24:12.857204Z"
        },
        "id": "X1dD1nkLdDF8",
        "outputId": "836cf6a8-b093-4eac-e7a0-aef7a6246de0",
        "trusted": true
      },
      "outputs": [
        {
          "data": {
            "text/plain": [
              "['Sex',\n",
              " 'IsSeniorCitizen',\n",
              " 'HasPartner',\n",
              " 'HasChild',\n",
              " 'HasPhoneService',\n",
              " 'HasMultiplePhoneNumbers',\n",
              " 'HasInternetService',\n",
              " 'HasOnlineSecurityService',\n",
              " 'HasOnlineBackup',\n",
              " 'HasDeviceProtection',\n",
              " 'HasTechSupportAccess',\n",
              " 'HasOnlineTV',\n",
              " 'HasMovieSubscription',\n",
              " 'HasContractPhone',\n",
              " 'IsBillingPaperless',\n",
              " 'PaymentMethod']"
            ]
          },
          "execution_count": 11,
          "metadata": {},
          "output_type": "execute_result"
        }
      ],
      "source": [
        "categorical_columns"
      ]
    },
    {
      "cell_type": "code",
      "execution_count": 12,
      "metadata": {
        "colab": {
          "base_uri": "https://localhost:8080/"
        },
        "execution": {
          "iopub.execute_input": "2022-10-15T14:24:12.867016Z",
          "iopub.status.busy": "2022-10-15T14:24:12.866563Z",
          "iopub.status.idle": "2022-10-15T14:24:12.876357Z",
          "shell.execute_reply": "2022-10-15T14:24:12.875227Z",
          "shell.execute_reply.started": "2022-10-15T14:24:12.866974Z"
        },
        "id": "zgDIgkKWdDF9",
        "outputId": "662b88fe-fb2f-477c-baf0-f04ee59aa888",
        "trusted": true
      },
      "outputs": [
        {
          "data": {
            "text/plain": [
              "['Churn']"
            ]
          },
          "execution_count": 12,
          "metadata": {},
          "output_type": "execute_result"
        }
      ],
      "source": [
        "target_columns"
      ]
    },
    {
      "cell_type": "code",
      "execution_count": 13,
      "metadata": {
        "execution": {
          "iopub.execute_input": "2022-10-15T14:24:12.878183Z",
          "iopub.status.busy": "2022-10-15T14:24:12.877718Z",
          "iopub.status.idle": "2022-10-15T14:24:12.887227Z",
          "shell.execute_reply": "2022-10-15T14:24:12.886095Z",
          "shell.execute_reply.started": "2022-10-15T14:24:12.878150Z"
        },
        "id": "_K0RUBBidDF9",
        "trusted": true
      },
      "outputs": [],
      "source": [
        "assert len(numeric_columns) + len(categorical_columns) + len(target_columns) == 20"
      ]
    },
    {
      "cell_type": "code",
      "execution_count": 14,
      "metadata": {
        "colab": {
          "base_uri": "https://localhost:8080/"
        },
        "execution": {
          "iopub.execute_input": "2022-10-15T14:24:12.889361Z",
          "iopub.status.busy": "2022-10-15T14:24:12.888750Z",
          "iopub.status.idle": "2022-10-15T14:24:12.916684Z",
          "shell.execute_reply": "2022-10-15T14:24:12.915496Z",
          "shell.execute_reply.started": "2022-10-15T14:24:12.889318Z"
        },
        "id": "UiwD-__sdDF9",
        "outputId": "12c83c15-2c0a-46f1-df0a-c0d27d7975ec",
        "trusted": true
      },
      "outputs": [
        {
          "name": "stdout",
          "output_type": "stream",
          "text": [
            "Categorical columns : [value1, value2, ..., valueN]\n",
            "\n",
            "Sex : ['Male' 'Female']\n",
            "IsSeniorCitizen : [0 1]\n",
            "HasPartner : ['Yes' 'No']\n",
            "HasChild : ['Yes' 'No']\n",
            "HasPhoneService : ['Yes' 'No']\n",
            "HasMultiplePhoneNumbers : ['No' 'Yes' 'No phone service']\n",
            "HasInternetService : ['No' 'Fiber optic' 'DSL']\n",
            "HasOnlineSecurityService : ['No internet service' 'No' 'Yes']\n",
            "HasOnlineBackup : ['No internet service' 'No' 'Yes']\n",
            "HasDeviceProtection : ['No internet service' 'No' 'Yes']\n",
            "HasTechSupportAccess : ['No internet service' 'Yes' 'No']\n",
            "HasOnlineTV : ['No internet service' 'No' 'Yes']\n",
            "HasMovieSubscription : ['No internet service' 'No' 'Yes']\n",
            "HasContractPhone : ['One year' 'Two year' 'Month-to-month']\n",
            "IsBillingPaperless : ['No' 'Yes']\n",
            "PaymentMethod : ['Mailed check' 'Credit card (automatic)' 'Electronic check'\n",
            " 'Bank transfer (automatic)']\n",
            "\n",
            "Target columns : [value1, value2, ..., valueN]\n",
            "\n",
            "Churn : [0 1]\n"
          ]
        }
      ],
      "source": [
        "print(\"Categorical columns : [value1, value2, ..., valueN]\\n\")\n",
        "\n",
        "for column in categorical_columns:\n",
        "    print(column, \":\", pd.unique(df[column]))\n",
        "\n",
        "print(\"\\nTarget columns : [value1, value2, ..., valueN]\\n\")\n",
        "    \n",
        "for column in target_columns:\n",
        "    print(column, \":\", pd.unique(df[column]))"
      ]
    },
    {
      "cell_type": "markdown",
      "metadata": {
        "id": "y7i3cOnedDF-"
      },
      "source": [
        "## Clear data"
      ]
    },
    {
      "cell_type": "code",
      "execution_count": 15,
      "metadata": {
        "colab": {
          "base_uri": "https://localhost:8080/",
          "height": 483
        },
        "execution": {
          "iopub.execute_input": "2022-10-15T14:24:12.918527Z",
          "iopub.status.busy": "2022-10-15T14:24:12.918130Z",
          "iopub.status.idle": "2022-10-15T14:24:13.316996Z",
          "shell.execute_reply": "2022-10-15T14:24:13.316219Z",
          "shell.execute_reply.started": "2022-10-15T14:24:12.918494Z"
        },
        "id": "Qe8qXioidDF-",
        "outputId": "5ba217b3-e0d2-4b8e-8715-310dfeade8cb",
        "trusted": true
      },
      "outputs": [
        {
          "data": {
            "image/png": "[encoded data removed]",
            "text/plain": [
              "<Figure size 864x576 with 1 Axes>"
            ]
          },
          "metadata": {
            "needs_background": "light"
          },
          "output_type": "display_data"
        }
      ],
      "source": [
        "df.replace(\" \", np.nan, inplace=True)\n",
        "df_test.replace(\" \", np.nan, inplace=True)\n",
        "\n",
        "pd.DataFrame(df.isna().sum(), columns=[\"NaN Count\"]) \\\n",
        "    .sort_values(\"NaN Count\") \\\n",
        "    .plot(kind=\"barh\", legend=False, figsize=(12, 8));"
      ]
    },
    {
      "cell_type": "markdown",
      "metadata": {
        "id": "TvOAiSEvdDF-"
      },
      "source": [
        "У нас 9 Nan, уберём их."
      ]
    },
    {
      "cell_type": "code",
      "execution_count": 16,
      "metadata": {
        "colab": {
          "base_uri": "https://localhost:8080/",
          "height": 809
        },
        "execution": {
          "iopub.execute_input": "2022-10-15T14:24:13.319422Z",
          "iopub.status.busy": "2022-10-15T14:24:13.318349Z",
          "iopub.status.idle": "2022-10-15T14:24:13.355831Z",
          "shell.execute_reply": "2022-10-15T14:24:13.354803Z",
          "shell.execute_reply.started": "2022-10-15T14:24:13.319389Z"
        },
        "id": "M1YU8xhxdDF-",
        "outputId": "e44873aa-f01e-4bde-c5f7-ef09333a6f5b",
        "trusted": true
      },
      "outputs": [
        {
          "data": {
            "text/html": [
              "\n",
              "  <div id=\"df-d645c5ac-0967-4dce-872e-011e6645f93b\">\n",
              "    <div class=\"colab-df-container\">\n",
              "      <div>\n",
              "<style scoped>\n",
              "    .dataframe tbody tr th:only-of-type {\n",
              "        vertical-align: middle;\n",
              "    }\n",
              "\n",
              "    .dataframe tbody tr th {\n",
              "        vertical-align: top;\n",
              "    }\n",
              "\n",
              "    .dataframe thead th {\n",
              "        text-align: right;\n",
              "    }\n",
              "</style>\n",
              "<table border=\"1\" class=\"dataframe\">\n",
              "  <thead>\n",
              "    <tr style=\"text-align: right;\">\n",
              "      <th></th>\n",
              "      <th>ClientPeriod</th>\n",
              "      <th>MonthlySpending</th>\n",
              "      <th>TotalSpent</th>\n",
              "      <th>Sex</th>\n",
              "      <th>IsSeniorCitizen</th>\n",
              "      <th>HasPartner</th>\n",
              "      <th>HasChild</th>\n",
              "      <th>HasPhoneService</th>\n",
              "      <th>HasMultiplePhoneNumbers</th>\n",
              "      <th>HasInternetService</th>\n",
              "      <th>HasOnlineSecurityService</th>\n",
              "      <th>HasOnlineBackup</th>\n",
              "      <th>HasDeviceProtection</th>\n",
              "      <th>HasTechSupportAccess</th>\n",
              "      <th>HasOnlineTV</th>\n",
              "      <th>HasMovieSubscription</th>\n",
              "      <th>HasContractPhone</th>\n",
              "      <th>IsBillingPaperless</th>\n",
              "      <th>PaymentMethod</th>\n",
              "      <th>Churn</th>\n",
              "    </tr>\n",
              "  </thead>\n",
              "  <tbody>\n",
              "    <tr>\n",
              "      <th>5058</th>\n",
              "      <td>13</td>\n",
              "      <td>78.75</td>\n",
              "      <td>995.35</td>\n",
              "      <td>Female</td>\n",
              "      <td>0</td>\n",
              "      <td>No</td>\n",
              "      <td>No</td>\n",
              "      <td>Yes</td>\n",
              "      <td>Yes</td>\n",
              "      <td>DSL</td>\n",
              "      <td>Yes</td>\n",
              "      <td>No</td>\n",
              "      <td>Yes</td>\n",
              "      <td>No</td>\n",
              "      <td>Yes</td>\n",
              "      <td>Yes</td>\n",
              "      <td>Month-to-month</td>\n",
              "      <td>Yes</td>\n",
              "      <td>Electronic check</td>\n",
              "      <td>0</td>\n",
              "    </tr>\n",
              "    <tr>\n",
              "      <th>3557</th>\n",
              "      <td>23</td>\n",
              "      <td>44.95</td>\n",
              "      <td>996.85</td>\n",
              "      <td>Female</td>\n",
              "      <td>0</td>\n",
              "      <td>No</td>\n",
              "      <td>No</td>\n",
              "      <td>No</td>\n",
              "      <td>No phone service</td>\n",
              "      <td>DSL</td>\n",
              "      <td>No</td>\n",
              "      <td>No</td>\n",
              "      <td>No</td>\n",
              "      <td>No</td>\n",
              "      <td>Yes</td>\n",
              "      <td>Yes</td>\n",
              "      <td>Month-to-month</td>\n",
              "      <td>Yes</td>\n",
              "      <td>Electronic check</td>\n",
              "      <td>0</td>\n",
              "    </tr>\n",
              "    <tr>\n",
              "      <th>141</th>\n",
              "      <td>51</td>\n",
              "      <td>19.85</td>\n",
              "      <td>996.95</td>\n",
              "      <td>Female</td>\n",
              "      <td>0</td>\n",
              "      <td>No</td>\n",
              "      <td>No</td>\n",
              "      <td>Yes</td>\n",
              "      <td>No</td>\n",
              "      <td>No</td>\n",
              "      <td>No internet service</td>\n",
              "      <td>No internet service</td>\n",
              "      <td>No internet service</td>\n",
              "      <td>No internet service</td>\n",
              "      <td>No internet service</td>\n",
              "      <td>No internet service</td>\n",
              "      <td>One year</td>\n",
              "      <td>Yes</td>\n",
              "      <td>Bank transfer (automatic)</td>\n",
              "      <td>0</td>\n",
              "    </tr>\n",
              "    <tr>\n",
              "      <th>4317</th>\n",
              "      <td>11</td>\n",
              "      <td>95.15</td>\n",
              "      <td>997.65</td>\n",
              "      <td>Female</td>\n",
              "      <td>1</td>\n",
              "      <td>No</td>\n",
              "      <td>No</td>\n",
              "      <td>Yes</td>\n",
              "      <td>Yes</td>\n",
              "      <td>Fiber optic</td>\n",
              "      <td>No</td>\n",
              "      <td>No</td>\n",
              "      <td>No</td>\n",
              "      <td>No</td>\n",
              "      <td>Yes</td>\n",
              "      <td>Yes</td>\n",
              "      <td>Month-to-month</td>\n",
              "      <td>Yes</td>\n",
              "      <td>Bank transfer (automatic)</td>\n",
              "      <td>1</td>\n",
              "    </tr>\n",
              "    <tr>\n",
              "      <th>3376</th>\n",
              "      <td>55</td>\n",
              "      <td>19.15</td>\n",
              "      <td>998.1</td>\n",
              "      <td>Female</td>\n",
              "      <td>0</td>\n",
              "      <td>Yes</td>\n",
              "      <td>Yes</td>\n",
              "      <td>Yes</td>\n",
              "      <td>No</td>\n",
              "      <td>No</td>\n",
              "      <td>No internet service</td>\n",
              "      <td>No internet service</td>\n",
              "      <td>No internet service</td>\n",
              "      <td>No internet service</td>\n",
              "      <td>No internet service</td>\n",
              "      <td>No internet service</td>\n",
              "      <td>One year</td>\n",
              "      <td>No</td>\n",
              "      <td>Credit card (automatic)</td>\n",
              "      <td>0</td>\n",
              "    </tr>\n",
              "    <tr>\n",
              "      <th>1157</th>\n",
              "      <td>11</td>\n",
              "      <td>94.20</td>\n",
              "      <td>999.9</td>\n",
              "      <td>Female</td>\n",
              "      <td>0</td>\n",
              "      <td>No</td>\n",
              "      <td>No</td>\n",
              "      <td>Yes</td>\n",
              "      <td>No</td>\n",
              "      <td>Fiber optic</td>\n",
              "      <td>No</td>\n",
              "      <td>Yes</td>\n",
              "      <td>Yes</td>\n",
              "      <td>Yes</td>\n",
              "      <td>No</td>\n",
              "      <td>Yes</td>\n",
              "      <td>Month-to-month</td>\n",
              "      <td>Yes</td>\n",
              "      <td>Electronic check</td>\n",
              "      <td>0</td>\n",
              "    </tr>\n",
              "    <tr>\n",
              "      <th>1048</th>\n",
              "      <td>0</td>\n",
              "      <td>25.75</td>\n",
              "      <td>NaN</td>\n",
              "      <td>Male</td>\n",
              "      <td>0</td>\n",
              "      <td>Yes</td>\n",
              "      <td>Yes</td>\n",
              "      <td>Yes</td>\n",
              "      <td>Yes</td>\n",
              "      <td>No</td>\n",
              "      <td>No internet service</td>\n",
              "      <td>No internet service</td>\n",
              "      <td>No internet service</td>\n",
              "      <td>No internet service</td>\n",
              "      <td>No internet service</td>\n",
              "      <td>No internet service</td>\n",
              "      <td>Two year</td>\n",
              "      <td>No</td>\n",
              "      <td>Mailed check</td>\n",
              "      <td>0</td>\n",
              "    </tr>\n",
              "    <tr>\n",
              "      <th>1707</th>\n",
              "      <td>0</td>\n",
              "      <td>73.35</td>\n",
              "      <td>NaN</td>\n",
              "      <td>Female</td>\n",
              "      <td>0</td>\n",
              "      <td>Yes</td>\n",
              "      <td>Yes</td>\n",
              "      <td>Yes</td>\n",
              "      <td>Yes</td>\n",
              "      <td>DSL</td>\n",
              "      <td>No</td>\n",
              "      <td>Yes</td>\n",
              "      <td>Yes</td>\n",
              "      <td>Yes</td>\n",
              "      <td>Yes</td>\n",
              "      <td>No</td>\n",
              "      <td>Two year</td>\n",
              "      <td>No</td>\n",
              "      <td>Mailed check</td>\n",
              "      <td>0</td>\n",
              "    </tr>\n",
              "    <tr>\n",
              "      <th>2543</th>\n",
              "      <td>0</td>\n",
              "      <td>19.70</td>\n",
              "      <td>NaN</td>\n",
              "      <td>Male</td>\n",
              "      <td>0</td>\n",
              "      <td>Yes</td>\n",
              "      <td>Yes</td>\n",
              "      <td>Yes</td>\n",
              "      <td>No</td>\n",
              "      <td>No</td>\n",
              "      <td>No internet service</td>\n",
              "      <td>No internet service</td>\n",
              "      <td>No internet service</td>\n",
              "      <td>No internet service</td>\n",
              "      <td>No internet service</td>\n",
              "      <td>No internet service</td>\n",
              "      <td>One year</td>\n",
              "      <td>Yes</td>\n",
              "      <td>Mailed check</td>\n",
              "      <td>0</td>\n",
              "    </tr>\n",
              "    <tr>\n",
              "      <th>3078</th>\n",
              "      <td>0</td>\n",
              "      <td>80.85</td>\n",
              "      <td>NaN</td>\n",
              "      <td>Female</td>\n",
              "      <td>0</td>\n",
              "      <td>Yes</td>\n",
              "      <td>Yes</td>\n",
              "      <td>Yes</td>\n",
              "      <td>No</td>\n",
              "      <td>DSL</td>\n",
              "      <td>Yes</td>\n",
              "      <td>Yes</td>\n",
              "      <td>Yes</td>\n",
              "      <td>No</td>\n",
              "      <td>Yes</td>\n",
              "      <td>Yes</td>\n",
              "      <td>Two year</td>\n",
              "      <td>No</td>\n",
              "      <td>Mailed check</td>\n",
              "      <td>0</td>\n",
              "    </tr>\n",
              "    <tr>\n",
              "      <th>3697</th>\n",
              "      <td>0</td>\n",
              "      <td>20.00</td>\n",
              "      <td>NaN</td>\n",
              "      <td>Female</td>\n",
              "      <td>0</td>\n",
              "      <td>Yes</td>\n",
              "      <td>Yes</td>\n",
              "      <td>Yes</td>\n",
              "      <td>No</td>\n",
              "      <td>No</td>\n",
              "      <td>No internet service</td>\n",
              "      <td>No internet service</td>\n",
              "      <td>No internet service</td>\n",
              "      <td>No internet service</td>\n",
              "      <td>No internet service</td>\n",
              "      <td>No internet service</td>\n",
              "      <td>Two year</td>\n",
              "      <td>No</td>\n",
              "      <td>Mailed check</td>\n",
              "      <td>0</td>\n",
              "    </tr>\n",
              "    <tr>\n",
              "      <th>4002</th>\n",
              "      <td>0</td>\n",
              "      <td>61.90</td>\n",
              "      <td>NaN</td>\n",
              "      <td>Male</td>\n",
              "      <td>0</td>\n",
              "      <td>No</td>\n",
              "      <td>Yes</td>\n",
              "      <td>Yes</td>\n",
              "      <td>Yes</td>\n",
              "      <td>DSL</td>\n",
              "      <td>Yes</td>\n",
              "      <td>Yes</td>\n",
              "      <td>No</td>\n",
              "      <td>Yes</td>\n",
              "      <td>No</td>\n",
              "      <td>No</td>\n",
              "      <td>Two year</td>\n",
              "      <td>Yes</td>\n",
              "      <td>Bank transfer (automatic)</td>\n",
              "      <td>0</td>\n",
              "    </tr>\n",
              "    <tr>\n",
              "      <th>4326</th>\n",
              "      <td>0</td>\n",
              "      <td>25.35</td>\n",
              "      <td>NaN</td>\n",
              "      <td>Male</td>\n",
              "      <td>0</td>\n",
              "      <td>Yes</td>\n",
              "      <td>Yes</td>\n",
              "      <td>Yes</td>\n",
              "      <td>Yes</td>\n",
              "      <td>No</td>\n",
              "      <td>No internet service</td>\n",
              "      <td>No internet service</td>\n",
              "      <td>No internet service</td>\n",
              "      <td>No internet service</td>\n",
              "      <td>No internet service</td>\n",
              "      <td>No internet service</td>\n",
              "      <td>Two year</td>\n",
              "      <td>No</td>\n",
              "      <td>Mailed check</td>\n",
              "      <td>0</td>\n",
              "    </tr>\n",
              "    <tr>\n",
              "      <th>4551</th>\n",
              "      <td>0</td>\n",
              "      <td>52.55</td>\n",
              "      <td>NaN</td>\n",
              "      <td>Female</td>\n",
              "      <td>0</td>\n",
              "      <td>Yes</td>\n",
              "      <td>Yes</td>\n",
              "      <td>No</td>\n",
              "      <td>No phone service</td>\n",
              "      <td>DSL</td>\n",
              "      <td>Yes</td>\n",
              "      <td>No</td>\n",
              "      <td>Yes</td>\n",
              "      <td>Yes</td>\n",
              "      <td>Yes</td>\n",
              "      <td>No</td>\n",
              "      <td>Two year</td>\n",
              "      <td>Yes</td>\n",
              "      <td>Bank transfer (automatic)</td>\n",
              "      <td>0</td>\n",
              "    </tr>\n",
              "    <tr>\n",
              "      <th>4598</th>\n",
              "      <td>0</td>\n",
              "      <td>56.05</td>\n",
              "      <td>NaN</td>\n",
              "      <td>Female</td>\n",
              "      <td>0</td>\n",
              "      <td>Yes</td>\n",
              "      <td>Yes</td>\n",
              "      <td>No</td>\n",
              "      <td>No phone service</td>\n",
              "      <td>DSL</td>\n",
              "      <td>Yes</td>\n",
              "      <td>Yes</td>\n",
              "      <td>Yes</td>\n",
              "      <td>Yes</td>\n",
              "      <td>Yes</td>\n",
              "      <td>No</td>\n",
              "      <td>Two year</td>\n",
              "      <td>No</td>\n",
              "      <td>Credit card (automatic)</td>\n",
              "      <td>0</td>\n",
              "    </tr>\n",
              "  </tbody>\n",
              "</table>\n",
              "</div>\n",
              "      <button class=\"colab-df-convert\" onclick=\"convertToInteractive('df-d645c5ac-0967-4dce-872e-011e6645f93b')\"\n",
              "              title=\"Convert this dataframe to an interactive table.\"\n",
              "              style=\"display:none;\">\n",
              "        \n",
              "  <svg xmlns=\"http://www.w3.org/2000/svg\" height=\"24px\"viewBox=\"0 0 24 24\"\n",
              "       width=\"24px\">\n",
              "    <path d=\"M0 0h24v24H0V0z\" fill=\"none\"/>\n",
              "    <path d=\"M18.56 5.44l.94 2.06.94-2.06 2.06-.94-2.06-.94-.94-2.06-.94 2.06-2.06.94zm-11 1L8.5 8.5l.94-2.06 2.06-.94-2.06-.94L8.5 2.5l-.94 2.06-2.06.94zm10 10l.94 2.06.94-2.06 2.06-.94-2.06-.94-.94-2.06-.94 2.06-2.06.94z\"/><path d=\"M17.41 7.96l-1.37-1.37c-.4-.4-.92-.59-1.43-.59-.52 0-1.04.2-1.43.59L10.3 9.45l-7.72 7.72c-.78.78-.78 2.05 0 2.83L4 21.41c.39.39.9.59 1.41.59.51 0 1.02-.2 1.41-.59l7.78-7.78 2.81-2.81c.8-.78.8-2.07 0-2.86zM5.41 20L4 18.59l7.72-7.72 1.47 1.35L5.41 20z\"/>\n",
              "  </svg>\n",
              "      </button>\n",
              "      \n",
              "  <style>\n",
              "    .colab-df-container {\n",
              "      display:flex;\n",
              "      flex-wrap:wrap;\n",
              "      gap: 12px;\n",
              "    }\n",
              "\n",
              "    .colab-df-convert {\n",
              "      background-color: #E8F0FE;\n",
              "      border: none;\n",
              "      border-radius: 50%;\n",
              "      cursor: pointer;\n",
              "      display: none;\n",
              "      fill: #1967D2;\n",
              "      height: 32px;\n",
              "      padding: 0 0 0 0;\n",
              "      width: 32px;\n",
              "    }\n",
              "\n",
              "    .colab-df-convert:hover {\n",
              "      background-color: #E2EBFA;\n",
              "      box-shadow: 0px 1px 2px rgba(60, 64, 67, 0.3), 0px 1px 3px 1px rgba(60, 64, 67, 0.15);\n",
              "      fill: #174EA6;\n",
              "    }\n",
              "\n",
              "    [theme=dark] .colab-df-convert {\n",
              "      background-color: #3B4455;\n",
              "      fill: #D2E3FC;\n",
              "    }\n",
              "\n",
              "    [theme=dark] .colab-df-convert:hover {\n",
              "      background-color: #434B5C;\n",
              "      box-shadow: 0px 1px 3px 1px rgba(0, 0, 0, 0.15);\n",
              "      filter: drop-shadow(0px 1px 2px rgba(0, 0, 0, 0.3));\n",
              "      fill: #FFFFFF;\n",
              "    }\n",
              "  </style>\n",
              "\n",
              "      <script>\n",
              "        const buttonEl =\n",
              "          document.querySelector('#df-d645c5ac-0967-4dce-872e-011e6645f93b button.colab-df-convert');\n",
              "        buttonEl.style.display =\n",
              "          google.colab.kernel.accessAllowed ? 'block' : 'none';\n",
              "\n",
              "        async function convertToInteractive(key) {\n",
              "          const element = document.querySelector('#df-d645c5ac-0967-4dce-872e-011e6645f93b');\n",
              "          const dataTable =\n",
              "            await google.colab.kernel.invokeFunction('convertToInteractive',\n",
              "                                                     [key], {});\n",
              "          if (!dataTable) return;\n",
              "\n",
              "          const docLinkHtml = 'Like what you see? Visit the ' +\n",
              "            '<a target=\"_blank\" href=https://colab.research.google.com/notebooks/data_table.ipynb>data table notebook</a>'\n",
              "            + ' to learn more about interactive tables.';\n",
              "          element.innerHTML = '';\n",
              "          dataTable['output_type'] = 'display_data';\n",
              "          await google.colab.output.renderOutput(dataTable, element);\n",
              "          const docLink = document.createElement('div');\n",
              "          docLink.innerHTML = docLinkHtml;\n",
              "          element.appendChild(docLink);\n",
              "        }\n",
              "      </script>\n",
              "    </div>\n",
              "  </div>\n",
              "  "
            ],
            "text/plain": [
              "      ClientPeriod  MonthlySpending TotalSpent     Sex  IsSeniorCitizen  \\\n",
              "5058            13            78.75     995.35  Female                0   \n",
              "3557            23            44.95     996.85  Female                0   \n",
              "141             51            19.85     996.95  Female                0   \n",
              "4317            11            95.15     997.65  Female                1   \n",
              "3376            55            19.15      998.1  Female                0   \n",
              "1157            11            94.20      999.9  Female                0   \n",
              "1048             0            25.75        NaN    Male                0   \n",
              "1707             0            73.35        NaN  Female                0   \n",
              "2543             0            19.70        NaN    Male                0   \n",
              "3078             0            80.85        NaN  Female                0   \n",
              "3697             0            20.00        NaN  Female                0   \n",
              "4002             0            61.90        NaN    Male                0   \n",
              "4326             0            25.35        NaN    Male                0   \n",
              "4551             0            52.55        NaN  Female                0   \n",
              "4598             0            56.05        NaN  Female                0   \n",
              "\n",
              "     HasPartner HasChild HasPhoneService HasMultiplePhoneNumbers  \\\n",
              "5058         No       No             Yes                     Yes   \n",
              "3557         No       No              No        No phone service   \n",
              "141          No       No             Yes                      No   \n",
              "4317         No       No             Yes                     Yes   \n",
              "3376        Yes      Yes             Yes                      No   \n",
              "1157         No       No             Yes                      No   \n",
              "1048        Yes      Yes             Yes                     Yes   \n",
              "1707        Yes      Yes             Yes                     Yes   \n",
              "2543        Yes      Yes             Yes                      No   \n",
              "3078        Yes      Yes             Yes                      No   \n",
              "3697        Yes      Yes             Yes                      No   \n",
              "4002         No      Yes             Yes                     Yes   \n",
              "4326        Yes      Yes             Yes                     Yes   \n",
              "4551        Yes      Yes              No        No phone service   \n",
              "4598        Yes      Yes              No        No phone service   \n",
              "\n",
              "     HasInternetService HasOnlineSecurityService      HasOnlineBackup  \\\n",
              "5058                DSL                      Yes                   No   \n",
              "3557                DSL                       No                   No   \n",
              "141                  No      No internet service  No internet service   \n",
              "4317        Fiber optic                       No                   No   \n",
              "3376                 No      No internet service  No internet service   \n",
              "1157        Fiber optic                       No                  Yes   \n",
              "1048                 No      No internet service  No internet service   \n",
              "1707                DSL                       No                  Yes   \n",
              "2543                 No      No internet service  No internet service   \n",
              "3078                DSL                      Yes                  Yes   \n",
              "3697                 No      No internet service  No internet service   \n",
              "4002                DSL                      Yes                  Yes   \n",
              "4326                 No      No internet service  No internet service   \n",
              "4551                DSL                      Yes                   No   \n",
              "4598                DSL                      Yes                  Yes   \n",
              "\n",
              "      HasDeviceProtection HasTechSupportAccess          HasOnlineTV  \\\n",
              "5058                  Yes                   No                  Yes   \n",
              "3557                   No                   No                  Yes   \n",
              "141   No internet service  No internet service  No internet service   \n",
              "4317                   No                   No                  Yes   \n",
              "3376  No internet service  No internet service  No internet service   \n",
              "1157                  Yes                  Yes                   No   \n",
              "1048  No internet service  No internet service  No internet service   \n",
              "1707                  Yes                  Yes                  Yes   \n",
              "2543  No internet service  No internet service  No internet service   \n",
              "3078                  Yes                   No                  Yes   \n",
              "3697  No internet service  No internet service  No internet service   \n",
              "4002                   No                  Yes                   No   \n",
              "4326  No internet service  No internet service  No internet service   \n",
              "4551                  Yes                  Yes                  Yes   \n",
              "4598                  Yes                  Yes                  Yes   \n",
              "\n",
              "     HasMovieSubscription HasContractPhone IsBillingPaperless  \\\n",
              "5058                  Yes   Month-to-month                Yes   \n",
              "3557                  Yes   Month-to-month                Yes   \n",
              "141   No internet service         One year                Yes   \n",
              "4317                  Yes   Month-to-month                Yes   \n",
              "3376  No internet service         One year                 No   \n",
              "1157                  Yes   Month-to-month                Yes   \n",
              "1048  No internet service         Two year                 No   \n",
              "1707                   No         Two year                 No   \n",
              "2543  No internet service         One year                Yes   \n",
              "3078                  Yes         Two year                 No   \n",
              "3697  No internet service         Two year                 No   \n",
              "4002                   No         Two year                Yes   \n",
              "4326  No internet service         Two year                 No   \n",
              "4551                   No         Two year                Yes   \n",
              "4598                   No         Two year                 No   \n",
              "\n",
              "                  PaymentMethod  Churn  \n",
              "5058           Electronic check      0  \n",
              "3557           Electronic check      0  \n",
              "141   Bank transfer (automatic)      0  \n",
              "4317  Bank transfer (automatic)      1  \n",
              "3376    Credit card (automatic)      0  \n",
              "1157           Electronic check      0  \n",
              "1048               Mailed check      0  \n",
              "1707               Mailed check      0  \n",
              "2543               Mailed check      0  \n",
              "3078               Mailed check      0  \n",
              "3697               Mailed check      0  \n",
              "4002  Bank transfer (automatic)      0  \n",
              "4326               Mailed check      0  \n",
              "4551  Bank transfer (automatic)      0  \n",
              "4598    Credit card (automatic)      0  "
            ]
          },
          "execution_count": 16,
          "metadata": {},
          "output_type": "execute_result"
        }
      ],
      "source": [
        "df.sort_values(\"TotalSpent\").tail(15)"
      ]
    },
    {
      "cell_type": "markdown",
      "metadata": {
        "id": "oURw2Of6dDF_"
      },
      "source": [
        "Это новые клиенты, поэтому заполним их нулями"
      ]
    },
    {
      "cell_type": "code",
      "execution_count": 17,
      "metadata": {
        "execution": {
          "iopub.execute_input": "2022-10-15T14:24:13.357437Z",
          "iopub.status.busy": "2022-10-15T14:24:13.357138Z",
          "iopub.status.idle": "2022-10-15T14:24:13.366352Z",
          "shell.execute_reply": "2022-10-15T14:24:13.365228Z",
          "shell.execute_reply.started": "2022-10-15T14:24:13.357410Z"
        },
        "id": "Nxxu06wrdDF_",
        "trusted": true
      },
      "outputs": [],
      "source": [
        "df[\"TotalSpent\"] = df.TotalSpent.fillna(0).astype(float)\n",
        "df_test[\"TotalSpent\"] = df_test.TotalSpent.fillna(0).astype(float)"
      ]
    },
    {
      "cell_type": "code",
      "execution_count": 18,
      "metadata": {
        "colab": {
          "base_uri": "https://localhost:8080/",
          "height": 1000
        },
        "execution": {
          "iopub.execute_input": "2022-10-15T14:24:13.367920Z",
          "iopub.status.busy": "2022-10-15T14:24:13.367564Z",
          "iopub.status.idle": "2022-10-15T14:24:15.744294Z",
          "shell.execute_reply": "2022-10-15T14:24:15.743115Z",
          "shell.execute_reply.started": "2022-10-15T14:24:13.367858Z"
        },
        "id": "VRokkBd8dDF_",
        "outputId": "0ab1bf2f-ef9d-4b3d-d9ad-d845f6c3d0b1",
        "trusted": true
      },
      "outputs": [
        {
          "data": {
            "image/png": "[encoded data removed]",
            "text/plain": [
              "<Figure size 1800x1440 with 20 Axes>"
            ]
          },
          "metadata": {
            "needs_background": "light"
          },
          "output_type": "display_data"
        }
      ],
      "source": [
        "fig, axes = plt.subplots(5, 4, figsize=(25, 20))\n",
        "\n",
        "for ax, col in zip(axes.flatten(), df.columns):\n",
        "    ax.set_title(col)\n",
        "    if col in categorical_columns or col == target_columns:\n",
        "        ax.pie(df[col].value_counts(), autopct=\"%1.1f%%\", labels=df[col].value_counts().index)\n",
        "    else:\n",
        "        df[col].plot(kind=\"hist\", ec=\"black\", ax=ax)"
      ]
    },
    {
      "cell_type": "code",
      "execution_count": 19,
      "metadata": {
        "colab": {
          "base_uri": "https://localhost:8080/",
          "height": 591
        },
        "execution": {
          "iopub.execute_input": "2022-10-15T14:24:15.746653Z",
          "iopub.status.busy": "2022-10-15T14:24:15.745886Z",
          "iopub.status.idle": "2022-10-15T14:24:17.825093Z",
          "shell.execute_reply": "2022-10-15T14:24:17.824199Z",
          "shell.execute_reply.started": "2022-10-15T14:24:15.746612Z"
        },
        "id": "MNRaVY_pdDF_",
        "outputId": "b04e732e-2ada-41b4-dee7-9fa252cbb28d",
        "trusted": true
      },
      "outputs": [
        {
          "data": {
            "image/png": "[encoded data removed]",
            "text/plain": [
              "<Figure size 1482.38x576 with 1 Axes>"
            ]
          },
          "metadata": {
            "needs_background": "light"
          },
          "output_type": "display_data"
        }
      ],
      "source": [
        "sns.catplot(data=df, x=\"ClientPeriod\", hue=\"Churn\", kind=\"count\", height=8, aspect=20/8)\n",
        "plt.xticks(rotation=45);"
      ]
    },
    {
      "attachments": {},
      "cell_type": "markdown",
      "metadata": {
        "id": "nip5nmJJdDF_"
      },
      "source": [
        "Решите задачу классификации изученными методами. Удачи!"
      ]
    },
    {
      "cell_type": "code",
      "execution_count": null,
      "metadata": {},
      "outputs": [],
      "source": []
    }
  ],
  "metadata": {
    "colab": {
      "provenance": []
    },
    "kernelspec": {
      "display_name": "Python 3",
      "language": "python",
      "name": "python3"
    },
    "language_info": {
      "codemirror_mode": {
        "name": "ipython",
        "version": 3
      },
      "file_extension": ".py",
      "mimetype": "text/x-python",
      "name": "python",
      "nbconvert_exporter": "python",
      "pygments_lexer": "ipython3",
      "version": "3.10.6"
    },
    "vscode": {
      "interpreter": {
        "hash": "916dbcbb3f70747c44a77c7bcd40155683ae19c65e1c03b4aa3499c5328201f1"
      }
    }
  },
  "nbformat": 4,
  "nbformat_minor": 0
}
