{
  "cells": [
    {
      "cell_type": "code",
      "execution_count": 186,
      "metadata": {
        "id": "M1z1V1LaiBpx"
      },
      "outputs": [],
      "source": [
        "import numpy as np\n",
        "import matplotlib.pyplot as plt\n",
        "import pandas as pd\n",
        "\n",
        "from sklearn.datasets import make_moons\n",
        "from sklearn.model_selection import GridSearchCV\n",
        "from sklearn.linear_model import LogisticRegression, LinearRegression, Lasso, Ridge, ElasticNet\n",
        "from sklearn.model_selection import KFold\n",
        "from sklearn.utils import shuffle\n",
        "from sklearn.model_selection import train_test_split\n",
        "from sklearn.preprocessing import PolynomialFeatures\n",
        "from sklearn.metrics import mean_squared_error"
      ]
    },
    {
      "attachments": {},
      "cell_type": "markdown",
      "metadata": {
        "id": "9yGjk_c3gAXv"
      },
      "source": [
        "# Задание 1\n",
        "Обучить логистическую регрессию на датасете moons. Вывести:\n",
        "\n",
        "1) Полученную метрику\n",
        "\n",
        "2) Оптимальные гиперпараметры (использовать регуляризацию)\n",
        "\n",
        "3) (ОБЯЗАТЕЛЬНО) Интерпретировать полученные результаты\n",
        "\n",
        "**Внимание: задание будет принято при условии достижения определенной метрики!**"
      ]
    },
    {
      "cell_type": "code",
      "execution_count": 105,
      "metadata": {
        "id": "okS6MJoNf_dd"
      },
      "outputs": [],
      "source": [
        "# Фиксируем сид \n",
        "np.random.seed(42)\n",
        "\n",
        "# Генерируем датасет\n",
        "X, y = make_moons(n_samples=300, noise=0.1)"
      ]
    },
    {
      "cell_type": "code",
      "execution_count": null,
      "metadata": {},
      "outputs": [],
      "source": []
    },
    {
      "attachments": {},
      "cell_type": "markdown",
      "metadata": {
        "id": "8InvKBQ6kfAu"
      },
      "source": [
        "# Задание 2\n",
        "Обучите линейную регрессию для прогнозирования цен домов в Калифорнии. Для оценки задания требуется:\n",
        "\n",
        "1) Вывести метрику (mean_absolute_error)\n",
        "\n",
        "2) Вывести лучшие гиперпараметры\n",
        "\n",
        "3) (ОБЯЗАТЕЛЬНО) Интерпретировать полученные результаты\n"
      ]
    },
    {
      "cell_type": "code",
      "execution_count": null,
      "metadata": {},
      "outputs": [],
      "source": [
        "df = pd.read_csv('housing.csv')\n",
        "\n",
        "# Признаки\n",
        "X = df[[]]\n",
        "\n",
        "y = df[\"median_house_value\"] / 1000"
      ]
    },
    {
      "cell_type": "code",
      "execution_count": null,
      "metadata": {},
      "outputs": [],
      "source": []
    },
    {
      "attachments": {},
      "cell_type": "markdown",
      "metadata": {
        "id": "153CFH7PyEzM"
      },
      "source": [
        "# Задание 3\n",
        "Обучите модель логистической регресии на датасете AppleStore. Для оценки задания требуется:\n",
        "\n",
        "1) Вывести метрику (accuracy)\n",
        "\n",
        "2) Вывести лучшие гиперпараметры\n",
        "\n",
        "3) (ОБЯЗАТЕЛЬНО) Интерпретировать полученные результаты"
      ]
    },
    {
      "cell_type": "code",
      "execution_count": null,
      "metadata": {},
      "outputs": [],
      "source": [
        "data = pd.read_csv('AppleStore.csv')\n",
        "data.head()"
      ]
    },
    {
      "cell_type": "code",
      "execution_count": null,
      "metadata": {},
      "outputs": [],
      "source": []
    }
  ],
  "metadata": {
    "colab": {
      "provenance": []
    },
    "kernelspec": {
      "display_name": "Python 3",
      "language": "python",
      "name": "python3"
    },
    "language_info": {
      "name": "python",
      "version": "3.10.7 (tags/v3.10.7:6cc6b13, Sep  5 2022, 14:08:36) [MSC v.1933 64 bit (AMD64)]"
    },
    "vscode": {
      "interpreter": {
        "hash": "2c3a313d62747f3953029ccee5ce2d7712e806ea1bb2978a6cb4d87a235ddcc0"
      }
    }
  },
  "nbformat": 4,
  "nbformat_minor": 0
}
